{
 "cells": [
  {
   "cell_type": "code",
   "execution_count": 1,
   "id": "bf6469de",
   "metadata": {},
   "outputs": [
    {
     "name": "stdout",
     "output_type": "stream",
     "text": [
      "\n",
      "Conditional statements in Python...\n",
      "\n"
     ]
    }
   ],
   "source": [
    "print(\"\"\"\n",
    "Conditional statements in Python...\n",
    "\"\"\")"
   ]
  },
  {
   "cell_type": "code",
   "execution_count": 2,
   "id": "239bcde4",
   "metadata": {},
   "outputs": [],
   "source": [
    "# 1. if else statement"
   ]
  },
  {
   "cell_type": "code",
   "execution_count": null,
   "id": "00d8ba0e",
   "metadata": {},
   "outputs": [],
   "source": [
    "a = 2345\n",
    "b = 678     \n",
    "djabfdsjfdals"
   ]
  },
  {
   "cell_type": "code",
   "execution_count": 4,
   "id": "e36599d6",
   "metadata": {},
   "outputs": [
    {
     "name": "stdout",
     "output_type": "stream",
     "text": [
      "a is greater than b\n"
     ]
    }
   ],
   "source": [
    "if a > b:\n",
    "    print(\"a is greater than b\")"
   ]
  },
  {
   "cell_type": "code",
   "execution_count": 17,
   "id": "cfc4f40c",
   "metadata": {},
   "outputs": [
    {
     "ename": "IndentationError",
     "evalue": "expected an indented block after 'if' statement on line 1 (135721785.py, line 2)",
     "output_type": "error",
     "traceback": [
      "  \u001b[36mCell\u001b[39m\u001b[36m \u001b[39m\u001b[32mIn[17]\u001b[39m\u001b[32m, line 2\u001b[39m\n\u001b[31m    \u001b[39m\u001b[31mprint(\"a is greater than b\")\u001b[39m\n    ^\n\u001b[31mIndentationError\u001b[39m\u001b[31m:\u001b[39m expected an indented block after 'if' statement on line 1\n"
     ]
    }
   ],
   "source": [
    "if a > b:\n",
    "print(\"a is greater than b\")"
   ]
  },
  {
   "cell_type": "code",
   "execution_count": 5,
   "id": "d592a36b",
   "metadata": {},
   "outputs": [
    {
     "name": "stdout",
     "output_type": "stream",
     "text": [
      "a is greater than b\n"
     ]
    }
   ],
   "source": [
    "print(\"a is greater than b\")"
   ]
  },
  {
   "cell_type": "code",
   "execution_count": 6,
   "id": "cfc89a5a",
   "metadata": {},
   "outputs": [
    {
     "data": {
      "text/plain": [
       "'\\nif (condition):\\n    # code to be executed....\\n'"
      ]
     },
     "execution_count": 6,
     "metadata": {},
     "output_type": "execute_result"
    }
   ],
   "source": [
    "\"\"\"\n",
    "if (condition):\n",
    "    # code to be executed....\n",
    "\"\"\""
   ]
  },
  {
   "cell_type": "code",
   "execution_count": 14,
   "id": "6bfee945",
   "metadata": {},
   "outputs": [
    {
     "name": "stdout",
     "output_type": "stream",
     "text": [
      "a is less than b\n"
     ]
    }
   ],
   "source": [
    "a = 3\n",
    "b = 2345\n",
    "if a<b:\n",
    "    print(\"a is less than b\")\n",
    "else:\n",
    "    print(\"a is greater than b\")"
   ]
  },
  {
   "cell_type": "code",
   "execution_count": 12,
   "id": "ad99179b",
   "metadata": {},
   "outputs": [
    {
     "data": {
      "text/plain": [
       "False"
      ]
     },
     "execution_count": 12,
     "metadata": {},
     "output_type": "execute_result"
    }
   ],
   "source": [
    "a<b"
   ]
  },
  {
   "cell_type": "code",
   "execution_count": null,
   "id": "5b7e1e31",
   "metadata": {},
   "outputs": [
    {
     "name": "stdout",
     "output_type": "stream",
     "text": [
      "a is equal to b\n"
     ]
    }
   ],
   "source": [
    "# Multiple conditions \n",
    "\n",
    "a = 33\n",
    "b = 33\n",
    "if a > b:\n",
    "    print(\"a is greater than b\")\n",
    "elif a == b:\n",
    "    print(\"a is equal to b\")\n",
    "else:\n",
    "    print(\"no condition met\")"
   ]
  },
  {
   "cell_type": "code",
   "execution_count": 19,
   "id": "d1c0a089",
   "metadata": {},
   "outputs": [
    {
     "name": "stdout",
     "output_type": "stream",
     "text": [
      "a is equal to b\n"
     ]
    }
   ],
   "source": [
    "# another way\n",
    "a = 200\n",
    "b = 200\n",
    "if a > b: print(\"a is greater than b\")\n",
    "elif a == b: print(\"a is equal to b\")"
   ]
  },
  {
   "cell_type": "code",
   "execution_count": null,
   "id": "304b1648",
   "metadata": {},
   "outputs": [
    {
     "name": "stdout",
     "output_type": "stream",
     "text": [
      "shyam\n",
      "7\n"
     ]
    }
   ],
   "source": [
    "a = 2\n",
    "b = 330\n",
    "# print(\"ram\") if a>b else print(\"shyam\")\n",
    "if a > b:\n",
    "    print(\"ram\")\n",
    "else:\n",
    "    print(\"shyam\")\n",
    "    a = 3 +4\n",
    "    print(a)"
   ]
  },
  {
   "cell_type": "code",
   "execution_count": 5,
   "id": "5282a163",
   "metadata": {},
   "outputs": [
    {
     "name": "stdout",
     "output_type": "stream",
     "text": [
      "chatpat\n"
     ]
    }
   ],
   "source": [
    "a = 200\n",
    "b = 33\n",
    "c = 500\n",
    "\n",
    "\n",
    "if a>b and a>c and b>c: # multiple conditions\n",
    "    print(\"afsidgaso conditions are True\")\n",
    "else:\n",
    "    print(\"chatpat\")"
   ]
  },
  {
   "cell_type": "code",
   "execution_count": 6,
   "id": "d262707e",
   "metadata": {},
   "outputs": [
    {
     "name": "stdout",
     "output_type": "stream",
     "text": [
      "afsidgaso conditions are True\n"
     ]
    }
   ],
   "source": [
    "a = 200\n",
    "b = 33\n",
    "c = 500\n",
    "\n",
    "\n",
    "if a>b or a>c or b>c: # multiple conditions\n",
    "    print(\"afsidgaso conditions are True\")\n",
    "else:\n",
    "    print(\"chatpat\")"
   ]
  },
  {
   "cell_type": "code",
   "execution_count": 9,
   "id": "b21bb32e",
   "metadata": {},
   "outputs": [
    {
     "name": "stdout",
     "output_type": "stream",
     "text": [
      "a is NOT greater than b\n"
     ]
    }
   ],
   "source": [
    "a = 33\n",
    "b = 200\n",
    "if not a > b:\n",
    "  print(\"a is NOT greater than b\")"
   ]
  },
  {
   "cell_type": "code",
   "execution_count": 15,
   "id": "ccc33dd4",
   "metadata": {},
   "outputs": [
    {
     "name": "stdout",
     "output_type": "stream",
     "text": [
      "Above ten.\n",
      "and also above 20!\n"
     ]
    }
   ],
   "source": [
    "marks = 91\n",
    "\n",
    "if marks > 40:\n",
    "  print(\"Above ten.\")\n",
    "  if marks > 50:\n",
    "    print(\"and also above 20!\")\n",
    "  else:\n",
    "    print(\"but not above 20.\")"
   ]
  },
  {
   "cell_type": "code",
   "execution_count": null,
   "id": "0a11cd76",
   "metadata": {},
   "outputs": [
    {
     "name": "stdout",
     "output_type": "stream",
     "text": [
      "b is greater than a\n"
     ]
    }
   ],
   "source": [
    "a = 33\n",
    "b = 200\n",
    "\n",
    "if b < a:\n",
    "  pass"
   ]
  },
  {
   "cell_type": "code",
   "execution_count": 27,
   "id": "95294ad8",
   "metadata": {},
   "outputs": [
    {
     "name": "stdout",
     "output_type": "stream",
     "text": [
      "b is greater than a\n"
     ]
    }
   ],
   "source": [
    "a = 10 \n",
    "b = 20\n",
    "if b > a:\n",
    "    print(\"b is greater than a\")\n",
    "    pass # may be for later "
   ]
  },
  {
   "cell_type": "code",
   "execution_count": 30,
   "id": "bd8e6221",
   "metadata": {},
   "outputs": [
    {
     "name": "stdout",
     "output_type": "stream",
     "text": [
      "x is greater than 5\n"
     ]
    }
   ],
   "source": [
    "x = 10\n",
    "\n",
    "if x > 5:\n",
    "    print(\"x is greater than 5\")\n",
    "    pass  # We'll handle this later\n",
    "else:\n",
    "    print(\"x is 5 or less\")\n"
   ]
  },
  {
   "cell_type": "code",
   "execution_count": null,
   "id": "f8f62096",
   "metadata": {},
   "outputs": [],
   "source": []
  }
 ],
 "metadata": {
  "kernelspec": {
   "display_name": ".venv",
   "language": "python",
   "name": "python3"
  },
  "language_info": {
   "codemirror_mode": {
    "name": "ipython",
    "version": 3
   },
   "file_extension": ".py",
   "mimetype": "text/x-python",
   "name": "python",
   "nbconvert_exporter": "python",
   "pygments_lexer": "ipython3",
   "version": "3.13.2"
  }
 },
 "nbformat": 4,
 "nbformat_minor": 5
}
