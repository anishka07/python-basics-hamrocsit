{
 "cells": [
  {
   "cell_type": "code",
   "execution_count": null,
   "id": "ef9fadcd",
   "metadata": {},
   "outputs": [
    {
     "name": "stdout",
     "output_type": "stream",
     "text": [
      "a is greater than b\n"
     ]
    }
   ],
   "source": [
    "a=678\n",
    "b=12\n",
    "if a>b:\n",
    " print(\"a is greater than b\")"
   ]
  },
  {
   "cell_type": "code",
   "execution_count": 6,
   "id": "2a47aee4",
   "metadata": {},
   "outputs": [
    {
     "name": "stdout",
     "output_type": "stream",
     "text": [
      "a is less than b\n"
     ]
    }
   ],
   "source": [
    "a=4\n",
    "b=2345\n",
    "if a<b:\n",
    "        print('a is less than b')\n",
    "else:\n",
    "        print (\"a is greater than b\")"
   ]
  },
  {
   "cell_type": "code",
   "execution_count": 7,
   "id": "2a4f2f07",
   "metadata": {},
   "outputs": [
    {
     "name": "stdout",
     "output_type": "stream",
     "text": [
      "a is equal to b\n"
     ]
    }
   ],
   "source": [
    "a=44\n",
    "b=44\n",
    "if a>b:\n",
    "        print(\"a is greater than b\")\n",
    "elif a==b:\n",
    "        print(\"a is equal to b\")\n",
    "else:\n",
    "        print(\"no condition met\")"
   ]
  },
  {
   "cell_type": "code",
   "execution_count": 9,
   "id": "7b20e560",
   "metadata": {},
   "outputs": [
    {
     "name": "stdout",
     "output_type": "stream",
     "text": [
      "a is equal to b\n"
     ]
    }
   ],
   "source": [
    "a=300\n",
    "b=300\n",
    "if a>b:print(\"a is greater than b\")\n",
    "elif a==b:print (\"a is equal to b\")"
   ]
  },
  {
   "cell_type": "code",
   "execution_count": 1,
   "id": "0f3da954",
   "metadata": {},
   "outputs": [
    {
     "name": "stdout",
     "output_type": "stream",
     "text": [
      "sweta\n",
      "9\n"
     ]
    }
   ],
   "source": [
    "a=2\n",
    "b=330\n",
    "if a>b:\n",
    "    print(\"mirs\")\n",
    "else:\n",
    "        print(\"sweta\")\n",
    "        a=4+5\n",
    "        print(a)\n",
    "    \n"
   ]
  },
  {
   "cell_type": "code",
   "execution_count": 3,
   "id": "f1292bc8",
   "metadata": {},
   "outputs": [
    {
     "name": "stdout",
     "output_type": "stream",
     "text": [
      "Above ten.\n",
      "and also above 20\n"
     ]
    }
   ],
   "source": [
    "marks = 80\n",
    "\n",
    "if marks > 40:\n",
    "  print(\"Above ten.\")\n",
    "  if marks > 50:\n",
    "    print(\"and also above 20\")\n",
    "  else:\n",
    "    print(\"but not above 20\")"
   ]
  },
  {
   "cell_type": "code",
   "execution_count": null,
   "id": "30f25e12",
   "metadata": {},
   "outputs": [],
   "source": []
  }
 ],
 "metadata": {
  "kernelspec": {
   "display_name": ".venv",
   "language": "python",
   "name": "python3"
  },
  "language_info": {
   "codemirror_mode": {
    "name": "ipython",
    "version": 3
   },
   "file_extension": ".py",
   "mimetype": "text/x-python",
   "name": "python",
   "nbconvert_exporter": "python",
   "pygments_lexer": "ipython3",
   "version": "3.13.2"
  }
 },
 "nbformat": 4,
 "nbformat_minor": 5
}
