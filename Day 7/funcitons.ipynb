{
 "cells": [
  {
   "cell_type": "code",
   "execution_count": 1,
   "id": "0bff958e",
   "metadata": {},
   "outputs": [
    {
     "name": "stdout",
     "output_type": "stream",
     "text": [
      "Function in Python\n"
     ]
    }
   ],
   "source": [
    "print('''Function in Python''')"
   ]
  },
  {
   "cell_type": "code",
   "execution_count": 3,
   "id": "608eb8ef",
   "metadata": {},
   "outputs": [],
   "source": [
    "# Function: A block of code that only runs when it is called.\n",
    "# You can pass data, known as parameters, into a function.\n",
    "# A function can return data as a result.\n",
    "# Function Syntax:\n",
    "# def function_name(parameters):\n",
    "#     \"\"\"docstring\"\"\"\n",
    "#     statement(s)"
   ]
  },
  {
   "cell_type": "code",
   "execution_count": 4,
   "id": "c119b864",
   "metadata": {},
   "outputs": [],
   "source": [
    "def my_function():\n",
    "    print('Hello from a function')"
   ]
  },
  {
   "cell_type": "code",
   "execution_count": null,
   "id": "8b35d851",
   "metadata": {},
   "outputs": [
    {
     "data": {
      "text/plain": [
       "<function __main__.my_function()>"
      ]
     },
     "execution_count": 5,
     "metadata": {},
     "output_type": "execute_result"
    }
   ],
   "source": [
    "my_function # function is not called yet"
   ]
  },
  {
   "cell_type": "code",
   "execution_count": 6,
   "id": "4ef95fc4",
   "metadata": {},
   "outputs": [
    {
     "name": "stdout",
     "output_type": "stream",
     "text": [
      "Hello from a function\n"
     ]
    }
   ],
   "source": [
    "my_function()"
   ]
  },
  {
   "cell_type": "code",
   "execution_count": null,
   "id": "cdc75518",
   "metadata": {},
   "outputs": [
    {
     "name": "stdout",
     "output_type": "stream",
     "text": [
      "Hello Ram\n"
     ]
    }
   ],
   "source": [
    "def func_w_params(name): # name is a parameter \n",
    "    print('Hello ' + name)\n",
    "\n",
    "func_w_params('Ram')"
   ]
  },
  {
   "cell_type": "code",
   "execution_count": 9,
   "id": "6fbd0189",
   "metadata": {},
   "outputs": [],
   "source": [
    "# return \n",
    "def give_name(name):\n",
    "    return name # returns name"
   ]
  },
  {
   "cell_type": "code",
   "execution_count": null,
   "id": "4d346752",
   "metadata": {},
   "outputs": [
    {
     "data": {
      "text/plain": [
       "'Shyam'"
      ]
     },
     "execution_count": 10,
     "metadata": {},
     "output_type": "execute_result"
    }
   ],
   "source": [
    "give_name('Shyam') # this runs on .ipynb but not in .py"
   ]
  },
  {
   "cell_type": "code",
   "execution_count": 12,
   "id": "f6b6210b",
   "metadata": {},
   "outputs": [
    {
     "name": "stdout",
     "output_type": "stream",
     "text": [
      "Shyam\n"
     ]
    }
   ],
   "source": [
    "my_name = give_name('Shyam')\n",
    "print(my_name)"
   ]
  },
  {
   "cell_type": "code",
   "execution_count": 15,
   "id": "76ca4d3f",
   "metadata": {},
   "outputs": [
    {
     "name": "stdout",
     "output_type": "stream",
     "text": [
      "Emil surname\n",
      "Tobias surname\n",
      "Linus surname\n",
      "Shyam surname\n",
      "Ram surname\n"
     ]
    }
   ],
   "source": [
    "def my_function(fname):\n",
    "  print(fname + \" surname\")\n",
    "\n",
    "my_function(\"Emil\")\n",
    "my_function(\"Tobias\")\n",
    "my_function(\"Linus\")\n",
    "my_function(\"Shyam\")\n",
    "my_function(\"Ram\")"
   ]
  },
  {
   "cell_type": "code",
   "execution_count": 16,
   "id": "8abb75a0",
   "metadata": {},
   "outputs": [],
   "source": [
    "def my_func(first_name, last_name):\n",
    "    return first_name + \" \" + last_name"
   ]
  },
  {
   "cell_type": "code",
   "execution_count": 17,
   "id": "cdac425c",
   "metadata": {},
   "outputs": [
    {
     "data": {
      "text/plain": [
       "'Ram Bahadur'"
      ]
     },
     "execution_count": 17,
     "metadata": {},
     "output_type": "execute_result"
    }
   ],
   "source": [
    "my_func(\"Ram\", \"Bahadur\")"
   ]
  },
  {
   "cell_type": "code",
   "execution_count": 19,
   "id": "e6e81942",
   "metadata": {},
   "outputs": [
    {
     "ename": "TypeError",
     "evalue": "my_func() missing 1 required positional argument: 'last_name'",
     "output_type": "error",
     "traceback": [
      "\u001b[31m---------------------------------------------------------------------------\u001b[39m",
      "\u001b[31mTypeError\u001b[39m                                 Traceback (most recent call last)",
      "\u001b[36mCell\u001b[39m\u001b[36m \u001b[39m\u001b[32mIn[19]\u001b[39m\u001b[32m, line 1\u001b[39m\n\u001b[32m----> \u001b[39m\u001b[32m1\u001b[39m \u001b[43mmy_func\u001b[49m\u001b[43m(\u001b[49m\u001b[33;43m\"\u001b[39;49m\u001b[33;43masdf\u001b[39;49m\u001b[33;43m\"\u001b[39;49m\u001b[43m)\u001b[49m \u001b[38;5;66;03m# function takes 2 positional arguments but 1 was given\u001b[39;00m\n",
      "\u001b[31mTypeError\u001b[39m: my_func() missing 1 required positional argument: 'last_name'"
     ]
    }
   ],
   "source": [
    "my_func(\"asdf\") # function takes 2 positional arguments but 1 was given"
   ]
  },
  {
   "cell_type": "code",
   "execution_count": 21,
   "id": "15c0fc2e",
   "metadata": {},
   "outputs": [],
   "source": [
    "# def my_function(*args):\n",
    "#   print(\"The youngest child is \" + args[2])\n",
    "\n",
    "# my_function(\"Emil\", \"Tobias\", \"Linus\")"
   ]
  },
  {
   "cell_type": "code",
   "execution_count": 22,
   "id": "d95c0d87",
   "metadata": {},
   "outputs": [
    {
     "data": {
      "text/plain": [
       "15"
      ]
     },
     "execution_count": 22,
     "metadata": {},
     "output_type": "execute_result"
    }
   ],
   "source": [
    "def addition(a, b):\n",
    "    return a + b\n",
    "added_value = addition(5, 10)\n",
    "added_value"
   ]
  },
  {
   "cell_type": "code",
   "execution_count": 23,
   "id": "bdcaba03",
   "metadata": {},
   "outputs": [
    {
     "data": {
      "text/plain": [
       "15"
      ]
     },
     "execution_count": 23,
     "metadata": {},
     "output_type": "execute_result"
    }
   ],
   "source": [
    "def addition2(a, b):\n",
    "    return a + b\n",
    "added_value = addition2(5, 10)\n",
    "added_value"
   ]
  },
  {
   "cell_type": "code",
   "execution_count": 24,
   "id": "9e33e396",
   "metadata": {},
   "outputs": [
    {
     "data": {
      "text/plain": [
       "35"
      ]
     },
     "execution_count": 24,
     "metadata": {},
     "output_type": "execute_result"
    }
   ],
   "source": [
    "addition(5, 15) + addition2(5, 10)"
   ]
  },
  {
   "cell_type": "code",
   "execution_count": 44,
   "id": "8979556f",
   "metadata": {},
   "outputs": [
    {
     "name": "stdout",
     "output_type": "stream",
     "text": [
      "3\n"
     ]
    }
   ],
   "source": [
    "def subtraction(a=10, b=9): ## default value/keyword argument\n",
    "    return a - b\n",
    "a = subtraction(a=5, b=2)\n",
    "print(a)"
   ]
  },
  {
   "cell_type": "code",
   "execution_count": 31,
   "id": "eeccc1cc",
   "metadata": {},
   "outputs": [
    {
     "data": {
      "text/plain": [
       "'asdfas'"
      ]
     },
     "execution_count": 31,
     "metadata": {},
     "output_type": "execute_result"
    }
   ],
   "source": [
    "def say_my_name(name='ram'):\n",
    "    return name\n",
    "\n",
    "say_my_name('asdfas') # if you pass a value, it will override the default value"
   ]
  },
  {
   "cell_type": "code",
   "execution_count": 34,
   "id": "6f01ef03",
   "metadata": {},
   "outputs": [
    {
     "name": "stdout",
     "output_type": "stream",
     "text": [
      "a\n",
      "p\n",
      "p\n",
      "l\n",
      "e\n",
      "apple\n",
      "banana\n",
      "cherry\n"
     ]
    }
   ],
   "source": [
    "def my_function(food):\n",
    "  for x in food:\n",
    "    print(x)\n",
    "\n",
    "my_function(\"apple\")\n",
    "my_function([\"apple\", \"banana\", \"cherry\"])"
   ]
  },
  {
   "cell_type": "code",
   "execution_count": 35,
   "id": "1ef4b514",
   "metadata": {},
   "outputs": [],
   "source": [
    "def myfunction():\n",
    "  pass"
   ]
  },
  {
   "cell_type": "code",
   "execution_count": 42,
   "id": "5716d810",
   "metadata": {},
   "outputs": [
    {
     "name": "stdout",
     "output_type": "stream",
     "text": [
      "4\n"
     ]
    }
   ],
   "source": [
    "def my_function(x=5, /):\n",
    "  print(x)\n",
    "\n",
    "my_function(4)"
   ]
  },
  {
   "cell_type": "code",
   "execution_count": 50,
   "id": "98c175b0",
   "metadata": {},
   "outputs": [
    {
     "name": "stdout",
     "output_type": "stream",
     "text": [
      "3\n"
     ]
    },
    {
     "ename": "TypeError",
     "evalue": "my_function() got some positional-only arguments passed as keyword arguments: 'x'",
     "output_type": "error",
     "traceback": [
      "\u001b[31m---------------------------------------------------------------------------\u001b[39m",
      "\u001b[31mTypeError\u001b[39m                                 Traceback (most recent call last)",
      "\u001b[36mCell\u001b[39m\u001b[36m \u001b[39m\u001b[32mIn[50]\u001b[39m\u001b[32m, line 5\u001b[39m\n\u001b[32m      2\u001b[39m   \u001b[38;5;28mprint\u001b[39m(x)\n\u001b[32m      4\u001b[39m my_function(\u001b[32m3\u001b[39m)\n\u001b[32m----> \u001b[39m\u001b[32m5\u001b[39m \u001b[43mmy_function\u001b[49m\u001b[43m(\u001b[49m\u001b[43mx\u001b[49m\u001b[43m=\u001b[49m\u001b[32;43m3\u001b[39;49m\u001b[43m)\u001b[49m\n",
      "\u001b[31mTypeError\u001b[39m: my_function() got some positional-only arguments passed as keyword arguments: 'x'"
     ]
    }
   ],
   "source": [
    "def my_function(x, /): # positional-only parameter\n",
    "  print(x)\n",
    "\n",
    "my_function(3)\n",
    "my_function(x=3)"
   ]
  },
  {
   "cell_type": "code",
   "execution_count": null,
   "id": "0688039e",
   "metadata": {},
   "outputs": [
    {
     "name": "stdout",
     "output_type": "stream",
     "text": [
      "3\n"
     ]
    },
    {
     "ename": "TypeError",
     "evalue": "my_function() takes 0 positional arguments but 1 was given",
     "output_type": "error",
     "traceback": [
      "\u001b[31m---------------------------------------------------------------------------\u001b[39m",
      "\u001b[31mTypeError\u001b[39m                                 Traceback (most recent call last)",
      "\u001b[36mCell\u001b[39m\u001b[36m \u001b[39m\u001b[32mIn[51]\u001b[39m\u001b[32m, line 5\u001b[39m\n\u001b[32m      2\u001b[39m   \u001b[38;5;28mprint\u001b[39m(x)\n\u001b[32m      4\u001b[39m my_function(x = \u001b[32m3\u001b[39m)\n\u001b[32m----> \u001b[39m\u001b[32m5\u001b[39m \u001b[43mmy_function\u001b[49m\u001b[43m(\u001b[49m\u001b[32;43m3\u001b[39;49m\u001b[43m)\u001b[49m \u001b[38;5;66;03m# TypeError: my_function() takes 0 positional arguments but 1 was given\u001b[39;00m\n",
      "\u001b[31mTypeError\u001b[39m: my_function() takes 0 positional arguments but 1 was given"
     ]
    }
   ],
   "source": [
    "def my_function(*, x): # keyword-only argument\n",
    "  print(x)\n",
    "\n",
    "my_function(x=3)\n",
    "my_function(3) # TypeError: my_function() takes 0 positional arguments but 1 was given"
   ]
  },
  {
   "cell_type": "code",
   "execution_count": 52,
   "id": "443ae529",
   "metadata": {},
   "outputs": [
    {
     "name": "stdout",
     "output_type": "stream",
     "text": [
      "Recursion Example Results:\n",
      "1\n",
      "3\n",
      "6\n",
      "10\n",
      "15\n",
      "21\n"
     ]
    },
    {
     "data": {
      "text/plain": [
       "21"
      ]
     },
     "execution_count": 52,
     "metadata": {},
     "output_type": "execute_result"
    }
   ],
   "source": [
    "def tri_recursion(k):\n",
    "  if(k > 0):\n",
    "    result = k + tri_recursion(k - 1)\n",
    "    print(result)\n",
    "  else:\n",
    "    result = 0\n",
    "  return result\n",
    "\n",
    "print(\"Recursion Example Results:\")\n",
    "tri_recursion(6)"
   ]
  },
  {
   "cell_type": "code",
   "execution_count": null,
   "id": "e91f4a43",
   "metadata": {},
   "outputs": [],
   "source": []
  }
 ],
 "metadata": {
  "kernelspec": {
   "display_name": ".venv",
   "language": "python",
   "name": "python3"
  },
  "language_info": {
   "codemirror_mode": {
    "name": "ipython",
    "version": 3
   },
   "file_extension": ".py",
   "mimetype": "text/x-python",
   "name": "python",
   "nbconvert_exporter": "python",
   "pygments_lexer": "ipython3",
   "version": "3.13.2"
  }
 },
 "nbformat": 4,
 "nbformat_minor": 5
}
